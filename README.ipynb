{
 "cells": [
  {
   "attachments": {},
   "cell_type": "markdown",
   "metadata": {},
   "source": [
    "# Terrace\n",
    "\n",
    "[Documentation](https://terrace.readthedocs.io) | [Code](https://github.com/mixarcid/terrace) | [PyPI](https://pypi.org/project/terrace/)\n",
    "\n",
    "Welcome to Terrace, a collection of high-level utilities for writing concise and maintainable PyTorch code. I've been using PyTorch in my own work for a while now, and I developed these tools to boost my productivity. I'm now ready to share them with the world -- I hope you find Terrace to be as helpful as I have.\n",
    "\n",
    "Terrace provides two major features: Modules and Batches. Terrace Modules allow you to more concisely define your PyTorch models entirely in the `forward` method. Batches allow you to place all your data in nice classes rather than swinging around a bunch of raw tensors like a barbarian.\n",
    "\n",
    "## Modules\n",
    "\n",
    "If you're writing a vanilla PyTorch model, you need to populate both the `__init__` and `forward` methods of your model. `__init__` specifies all the submodules of your model, including all the input and output tensor shapes. `forward` specifies how to use all these submodules in order to run your computation. A simple neural network with a single hidden layer might look something like this:"
   ]
  },
  {
   "cell_type": "code",
   "execution_count": 3,
   "metadata": {},
   "outputs": [],
   "source": [
    "# IGNORE\n",
    "import sys\n",
    "sys.path.append('src')"
   ]
  },
  {
   "cell_type": "code",
   "execution_count": 4,
   "metadata": {},
   "outputs": [
    {
     "name": "stdout",
     "output_type": "stream",
     "text": [
      "torch.Size([16, 1])\n"
     ]
    }
   ],
   "source": [
    "import torch\n",
    "import torch.nn as nn\n",
    "import torch.nn.functional as F\n",
    "\n",
    "class SimpleNetwork(nn.Module):\n",
    "\n",
    "    def __init__(self):\n",
    "        super().__init__()\n",
    "        self.hidden_nn = nn.Linear(128, 64)\n",
    "        self.out_nn = nn.Linear(64, 1)\n",
    "\n",
    "    def forward(self, x):\n",
    "        hid = F.relu(self.hidden_nn(x))\n",
    "        return self.out_nn(hid)\n",
    "    \n",
    "model = SimpleNetwork()\n",
    "x = torch.randn(16, 128)\n",
    "out = model(x)\n",
    "print(out.shape)"
   ]
  },
  {
   "attachments": {},
   "cell_type": "markdown",
   "metadata": {},
   "source": [
    "There are two annoyances with this approach. First, the overall structure of the network is repeated in both the `__init__` and `forward` methods. This may be fine for a toy example, but it gets pretty annoying with larger networks. Every time you make a change to the architecture, you need to constantly scroll between `__init__` and `forward`.\n",
    "\n",
    "Additionally, you need to specify beforehand what the input shapes to the model will be. In this example, changing the input dimension from 128 to 256 would require changing code in two places. For models with many inputs with shapes, this can be a real pain.\n",
    "\n",
    "Terrace `Modules` solve both these problems by allowing you to code the entire model in the `forward` method. Here's how the same model would be written with Terrace."
   ]
  },
  {
   "cell_type": "code",
   "execution_count": 10,
   "metadata": {},
   "outputs": [
    {
     "name": "stdout",
     "output_type": "stream",
     "text": [
      "torch.Size([16, 1])\n"
     ]
    }
   ],
   "source": [
    "import terrace as ter\n",
    "\n",
    "class BetterSimpleNetwork(ter.Module):\n",
    "\n",
    "    def forward(self, x):\n",
    "        self.start_forward()\n",
    "        # with the LazyLinear layers, we only need to specify the output dimension\n",
    "        hid = F.relu(self.make(ter.LazyLinear, 64)(x))\n",
    "        out = self.make(ter.LazyLinear, 1)(hid)\n",
    "        return out\n",
    "    \n",
    "x = torch.randn(16, 128)\n",
    "model = BetterSimpleNetwork()\n",
    "out = model(x)\n",
    "print(out.shape)"
   ]
  },
  {
   "attachments": {},
   "cell_type": "markdown",
   "metadata": {},
   "source": [
    "The first time this model is run, the `make` calls with create new linear layers, each of which lazily creates their weight matrices based on their inputs. Writing complex models is now easier, faster, and just more fun.\n",
    "\n",
    "There are some important caveats to this approach, so please make sure to check out the [documentation](https://terrace.readthedocs.io/en/latest/guides/module.html)."
   ]
  },
  {
   "attachments": {},
   "cell_type": "markdown",
   "metadata": {},
   "source": [
    "## Batches\n",
    "\n",
    "Out of the box, PyTorch can collate tensors (and tuples of tensors) into batches. But what about arbitrary classes? If your neural network is dealing with complex datatypes, structuring your data in classes is the solution. By inheriting from Terrace's `Batchable` class, you can create datasets of arbitrary objects.\n",
    "\n",
    "Let's say you're working with people who have faces and names"
   ]
  },
  {
   "cell_type": "code",
   "execution_count": 6,
   "metadata": {},
   "outputs": [],
   "source": [
    "MAX_NAME_LEN = 128\n",
    "IMG_SIZE = 256\n",
    "class Person(ter.Batchable):\n",
    "    \n",
    "    face: torch.Tensor\n",
    "    name: torch.Tensor\n",
    "    \n",
    "    def __init__(self): # dummy person data\n",
    "        self.face = torch.zeros((3, IMG_SIZE, IMG_SIZE))\n",
    "        self.name = torch.zeros((MAX_NAME_LEN,))"
   ]
  },
  {
   "attachments": {},
   "cell_type": "markdown",
   "metadata": {},
   "source": [
    "Now you can collate multiple people them into batches of people. These batches behave like people whose member data are batchified."
   ]
  },
  {
   "cell_type": "code",
   "execution_count": 8,
   "metadata": {},
   "outputs": [
    {
     "name": "stdout",
     "output_type": "stream",
     "text": [
      "Batch[Person](\n",
      "   face=Tensor(shape=torch.Size([2, 3, 256, 256]), dtype=torch.float32)\n",
      "   name=Tensor(shape=torch.Size([2, 128]), dtype=torch.float32)\n",
      ")\n"
     ]
    }
   ],
   "source": [
    "dave = Person()\n",
    "rhonda = Person()\n",
    "batch = ter.collate([dave, rhonda])\n",
    "print(batch)"
   ]
  },
  {
   "attachments": {},
   "cell_type": "markdown",
   "metadata": {},
   "source": [
    "With Terrace's ``Dataloader`` class, you can make your datasets return people directly."
   ]
  },
  {
   "cell_type": "code",
   "execution_count": 9,
   "metadata": {},
   "outputs": [
    {
     "name": "stdout",
     "output_type": "stream",
     "text": [
      "Batch[Person](\n",
      "   face=Tensor(shape=torch.Size([8, 3, 256, 256]), dtype=torch.float32)\n",
      "   name=Tensor(shape=torch.Size([8, 128]), dtype=torch.float32)\n",
      ")\n",
      "Batch[Person](\n",
      "   face=Tensor(shape=torch.Size([8, 3, 256, 256]), dtype=torch.float32)\n",
      "   name=Tensor(shape=torch.Size([8, 128]), dtype=torch.float32)\n",
      ")\n"
     ]
    }
   ],
   "source": [
    "class PersonDataset(torch.utils.data.Dataset):\n",
    "    \n",
    "    def __len__(self):\n",
    "        return 16\n",
    "    \n",
    "    def __getitem__(self, index):\n",
    "        return Person()\n",
    "    \n",
    "batch_size = 8\n",
    "dataset = PersonDataset()\n",
    "loader = ter.DataLoader(dataset, batch_size=batch_size)\n",
    "for batch in loader:\n",
    "    print(batch)"
   ]
  },
  {
   "attachments": {},
   "cell_type": "markdown",
   "metadata": {},
   "source": [
    "Terrace also has a higher-level interface for graph data, and several more features. Check out the [documentation](https://terrace.readthedocs.io)  for more info!\n",
    "\n",
    "## Getting started\n",
    "\n",
    "If you're interested in using Terrace for your own work, simply install via pip.\n",
    "\n",
    "```bash\n",
    "pip install terrace\n",
    "```\n",
    "\n",
    "If you find Terrace useful, or find a bug, or have an idea for further functionality, please reach out! [Email me](mailto:mixarcidiacono@gmail.com) or find me on [Twitter](https://twitter.com/mixarcid). \n",
    "\n",
    "## Disclaimer\n",
    "At the moment, Terrace is very much a work in progress. The API is subject to change and there are likely many bugs. In its current state, I would not recommend this package for production use."
   ]
  }
 ],
 "metadata": {
  "kernelspec": {
   "display_name": "plantain",
   "language": "python",
   "name": "python3"
  },
  "language_info": {
   "codemirror_mode": {
    "name": "ipython",
    "version": 3
   },
   "file_extension": ".py",
   "mimetype": "text/x-python",
   "name": "python",
   "nbconvert_exporter": "python",
   "pygments_lexer": "ipython3",
   "version": "3.10.10"
  },
  "orig_nbformat": 4
 },
 "nbformat": 4,
 "nbformat_minor": 2
}
