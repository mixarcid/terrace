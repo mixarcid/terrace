{
 "cells": [
  {
   "cell_type": "code",
   "execution_count": 1,
   "id": "4c43dd1f-49c6-486c-9ae2-4449d361a379",
   "metadata": {},
   "outputs": [],
   "source": [
    "import sys\n",
    "sys.path.append('../')\n",
    "\n",
    "%load_ext autoreload\n",
    "%autoreload 2"
   ]
  },
  {
   "cell_type": "code",
   "execution_count": 3,
   "id": "7ea847d3-8f13-41f4-80c4-b065b6fdf7f0",
   "metadata": {},
   "outputs": [],
   "source": [
    "import torch\n",
    "from torch import nn\n",
    "from type_data import *"
   ]
  },
  {
   "cell_type": "code",
   "execution_count": 10,
   "id": "d83e8ed4-c738-430f-ac80-8cd16eb3a7bc",
   "metadata": {},
   "outputs": [
    {
     "data": {
      "text/plain": [
       "9"
      ]
     },
     "execution_count": 10,
     "metadata": {},
     "output_type": "execute_result"
    }
   ],
   "source": [
    "funcs = []\n",
    "for i in range(10):\n",
    "    funcs.append(lambda x: i)\n",
    "funcs[0](10)"
   ]
  },
  {
   "cell_type": "code",
   "execution_count": 5,
   "id": "306193b4-d73c-402f-a70b-5f5be14e9806",
   "metadata": {},
   "outputs": [
    {
     "name": "stdout",
     "output_type": "stream",
     "text": [
      "batch + 2\n"
     ]
    },
    {
     "data": {
      "text/plain": [
       "ShapeVar[batch + 2]"
      ]
     },
     "execution_count": 5,
     "metadata": {},
     "output_type": "execute_result"
    }
   ],
   "source": [
    "batch = ShapeVar('batch')\n",
    "batch + 2"
   ]
  },
  {
   "cell_type": "code",
   "execution_count": 6,
   "id": "bbc93484-c151-4a4c-a117-5ff24b3dfb26",
   "metadata": {},
   "outputs": [
    {
     "name": "stdout",
     "output_type": "stream",
     "text": [
      "2*batch\n"
     ]
    },
    {
     "data": {
      "text/plain": [
       "ShapeVar[2*batch]"
      ]
     },
     "execution_count": 6,
     "metadata": {},
     "output_type": "execute_result"
    }
   ],
   "source": [
    "batch + batch"
   ]
  },
  {
   "cell_type": "code",
   "execution_count": 8,
   "id": "6849f81a-f6f0-4e11-b07d-918f66ea5e66",
   "metadata": {},
   "outputs": [
    {
     "data": {
      "text/plain": [
       "ShapeVar[b1**2*b2 - b2 + floor(b2/b1)]"
      ]
     },
     "execution_count": 8,
     "metadata": {},
     "output_type": "execute_result"
    }
   ],
   "source": [
    "b1 = ShapeVar('b1')\n",
    "b2 = ShapeVar('b2')\n",
    "(b1 * b2 * b1) + b2 // b1 - b2"
   ]
  },
  {
   "cell_type": "code",
   "execution_count": 9,
   "id": "1b1fc411-81c2-4636-b326-df3837ba7fcc",
   "metadata": {},
   "outputs": [
    {
     "data": {
      "text/plain": [
       "TypeData[Tensor[(1, 2, -b1 + 2*b2)]]"
      ]
     },
     "execution_count": 9,
     "metadata": {},
     "output_type": "execute_result"
    }
   ],
   "source": [
    "TensorTD((1,2,b2 + b2 - b1))"
   ]
  }
 ],
 "metadata": {
  "kernelspec": {
   "display_name": "Python 3 (ipykernel)",
   "language": "python",
   "name": "python3"
  },
  "language_info": {
   "codemirror_mode": {
    "name": "ipython",
    "version": 3
   },
   "file_extension": ".py",
   "mimetype": "text/x-python",
   "name": "python",
   "nbconvert_exporter": "python",
   "pygments_lexer": "ipython3",
   "version": "3.8.5"
  }
 },
 "nbformat": 4,
 "nbformat_minor": 5
}
