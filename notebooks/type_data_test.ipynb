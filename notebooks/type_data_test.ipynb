{
 "cells": [
  {
   "cell_type": "code",
   "execution_count": 1,
   "id": "4c43dd1f-49c6-486c-9ae2-4449d361a379",
   "metadata": {},
   "outputs": [],
   "source": [
    "import sys\n",
    "sys.path.append('../')\n",
    "\n",
    "%load_ext autoreload\n",
    "%autoreload 2"
   ]
  },
  {
   "cell_type": "code",
   "execution_count": 2,
   "id": "7ea847d3-8f13-41f4-80c4-b065b6fdf7f0",
   "metadata": {},
   "outputs": [],
   "source": [
    "import torch\n",
    "from torch import nn\n",
    "from type_data import *"
   ]
  },
  {
   "cell_type": "code",
   "execution_count": 3,
   "id": "306193b4-d73c-402f-a70b-5f5be14e9806",
   "metadata": {},
   "outputs": [
    {
     "data": {
      "text/plain": [
       "ShapeVar[batch + 2]"
      ]
     },
     "execution_count": 3,
     "metadata": {},
     "output_type": "execute_result"
    }
   ],
   "source": [
    "batch = ShapeVar('batch')\n",
    "batch + 2"
   ]
  },
  {
   "cell_type": "code",
   "execution_count": 4,
   "id": "bbc93484-c151-4a4c-a117-5ff24b3dfb26",
   "metadata": {},
   "outputs": [
    {
     "data": {
      "text/plain": [
       "ShapeVar[2*batch]"
      ]
     },
     "execution_count": 4,
     "metadata": {},
     "output_type": "execute_result"
    }
   ],
   "source": [
    "batch + batch"
   ]
  },
  {
   "cell_type": "code",
   "execution_count": 5,
   "id": "6849f81a-f6f0-4e11-b07d-918f66ea5e66",
   "metadata": {},
   "outputs": [
    {
     "data": {
      "text/plain": [
       "ShapeVar[b1**2*b2 - b2 + floor(b2/b1)]"
      ]
     },
     "execution_count": 5,
     "metadata": {},
     "output_type": "execute_result"
    }
   ],
   "source": [
    "b1 = ShapeVar('b1')\n",
    "b2 = ShapeVar('b2')\n",
    "(b1 * b2 * b1) + b2 // b1 - b2"
   ]
  },
  {
   "cell_type": "code",
   "execution_count": 6,
   "id": "1b1fc411-81c2-4636-b326-df3837ba7fcc",
   "metadata": {},
   "outputs": [
    {
     "data": {
      "text/plain": [
       "TypeData[Tensor[(1, 2, -b1 + 2*b2)]]"
      ]
     },
     "execution_count": 6,
     "metadata": {},
     "output_type": "execute_result"
    }
   ],
   "source": [
    "t = TensorTD((1,2,b2 + b2 - b1))\n",
    "t"
   ]
  },
  {
   "cell_type": "code",
   "execution_count": 11,
   "id": "56a06fd8-b397-46a8-9517-24b32d95ca02",
   "metadata": {},
   "outputs": [
    {
     "data": {
      "text/plain": [
       "TypeData[Test[t1=Tensor[(1, 2, b1)], t2=Tensor[(2, 3)]]]"
      ]
     },
     "execution_count": 11,
     "metadata": {},
     "output_type": "execute_result"
    }
   ],
   "source": [
    "ClassTD(type('Test', (int,), {}), t1=TensorTD((1,2,b1)), t2=TensorTD((2,3)))"
   ]
  },
  {
   "cell_type": "code",
   "execution_count": 38,
   "id": "a423f987-ff31-404a-bcbb-4fe834b2c79d",
   "metadata": {},
   "outputs": [
    {
     "name": "stdout",
     "output_type": "stream",
     "text": [
      "<class '__main__.Der'>\n"
     ]
    }
   ],
   "source": [
    "from copy import deepcopy\n",
    "\n",
    "class classclass():\n",
    "    def __init__(self, cls):\n",
    "        self.cls = cls\n",
    "    def __get__(self, instance, cls):\n",
    "        new_cls = deepcopy(self.cls)\n",
    "        new_cls.Owner = cls\n",
    "        return new_cls\n",
    "\n",
    "class Base:\n",
    "    \n",
    "    @classclass\n",
    "    class Test:\n",
    "        def __init__(self):\n",
    "            print(type(self).Owner)\n",
    "            \n",
    "class Der(Base):\n",
    "    pass\n",
    "\n",
    "t = Der.Test()"
   ]
  }
 ],
 "metadata": {
  "kernelspec": {
   "display_name": "Python 3 (ipykernel)",
   "language": "python",
   "name": "python3"
  },
  "language_info": {
   "codemirror_mode": {
    "name": "ipython",
    "version": 3
   },
   "file_extension": ".py",
   "mimetype": "text/x-python",
   "name": "python",
   "nbconvert_exporter": "python",
   "pygments_lexer": "ipython3",
   "version": "3.8.5"
  }
 },
 "nbformat": 4,
 "nbformat_minor": 5
}
