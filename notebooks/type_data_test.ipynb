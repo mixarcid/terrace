{
 "cells": [
  {
   "cell_type": "code",
   "execution_count": 1,
   "id": "4c43dd1f-49c6-486c-9ae2-4449d361a379",
   "metadata": {},
   "outputs": [],
   "source": [
    "import sys\n",
    "sys.path.append('../')\n",
    "\n",
    "%load_ext autoreload\n",
    "%autoreload 2"
   ]
  },
  {
   "cell_type": "code",
   "execution_count": 2,
   "id": "7ea847d3-8f13-41f4-80c4-b065b6fdf7f0",
   "metadata": {},
   "outputs": [],
   "source": [
    "import torch\n",
    "from torch import nn\n",
    "from type_data import *"
   ]
  },
  {
   "cell_type": "code",
   "execution_count": 3,
   "id": "6849f81a-f6f0-4e11-b07d-918f66ea5e66",
   "metadata": {},
   "outputs": [
    {
     "data": {
      "text/plain": [
       "ShapeVar[((b1 * b1) + (b1 // b1)) - b1]"
      ]
     },
     "execution_count": 3,
     "metadata": {},
     "output_type": "execute_result"
    }
   ],
   "source": [
    "b1 = NamedShapeVar('b1')\n",
    "b2 = NamedShapeVar('b1')\n",
    "(b1 * b2) + b2 // b1 - b2"
   ]
  },
  {
   "cell_type": "code",
   "execution_count": 10,
   "id": "1b1fc411-81c2-4636-b326-df3837ba7fcc",
   "metadata": {},
   "outputs": [
    {
     "data": {
      "text/plain": [
       "TypeData[Tensor[(1, 2, b1)]]"
      ]
     },
     "execution_count": 10,
     "metadata": {},
     "output_type": "execute_result"
    }
   ],
   "source": [
    "TensorTD((1,2,b2))"
   ]
  }
 ],
 "metadata": {
  "kernelspec": {
   "display_name": "Python 3 (ipykernel)",
   "language": "python",
   "name": "python3"
  },
  "language_info": {
   "codemirror_mode": {
    "name": "ipython",
    "version": 3
   },
   "file_extension": ".py",
   "mimetype": "text/x-python",
   "name": "python",
   "nbconvert_exporter": "python",
   "pygments_lexer": "ipython3",
   "version": "3.8.5"
  }
 },
 "nbformat": 4,
 "nbformat_minor": 5
}
