{
 "cells": [
  {
   "cell_type": "code",
   "execution_count": 1,
   "id": "127ea270-77ac-40a8-a3f1-43e204bbd458",
   "metadata": {},
   "outputs": [],
   "source": [
    "import sys\n",
    "sys.path.append('../')\n",
    "\n",
    "%load_ext autoreload\n",
    "%autoreload 2"
   ]
  },
  {
   "cell_type": "code",
   "execution_count": 2,
   "id": "0f0924dd-84bc-46ab-bfc7-014b8866c863",
   "metadata": {},
   "outputs": [],
   "source": [
    "import torch\n",
    "import dgl\n",
    "from meta_utils import default_init\n",
    "from batch import *\n",
    "from graph import *"
   ]
  },
  {
   "cell_type": "code",
   "execution_count": 4,
   "id": "b518fc5d-762b-43be-b6c4-8556e27bc003",
   "metadata": {},
   "outputs": [
    {
     "name": "stdout",
     "output_type": "stream",
     "text": [
      "tensor([[1, 0, 0],\n",
      "        [1, 0, 0],\n",
      "        [1, 0, 0],\n",
      "        [1, 0, 0],\n",
      "        [1, 0, 0],\n",
      "        [1, 0, 0],\n",
      "        [1, 0, 0],\n",
      "        [1, 0, 0],\n",
      "        [1, 0, 0],\n",
      "        [1, 0, 0]])\n"
     ]
    },
    {
     "data": {
      "text/plain": [
       "<graph.GraphBatch at 0x7f6c18872760>"
      ]
     },
     "execution_count": 4,
     "metadata": {},
     "output_type": "execute_result"
    }
   ],
   "source": [
    "@default_init\n",
    "class SubNTest(Batchable):\n",
    "    t1: torch.Tensor\n",
    "\n",
    "@default_init\n",
    "class NTest(Batchable):\n",
    "    t1: SubNTest\n",
    "    t2: torch.Tensor\n",
    "    \n",
    "@default_init\n",
    "class Edata(Batchable):\n",
    "    et1: torch.Tensor\n",
    "    \n",
    "    \n",
    "nodes = [ NTest(SubNTest(torch.tensor([1,0,0])), torch.tensor([0,1,0])) for n in range(10) ]\n",
    "edges = [(0,1), (1,2)]\n",
    "edata = [ Edata(torch.tensor([0,0,1])) for e in edges ]\n",
    "graph = Graph(nodes, edges, edata)\n",
    "print(graph.ndata.t1.t1)\n",
    "graph.dgl_graph\n",
    "\n",
    "make_batch([graph, graph])"
   ]
  }
 ],
 "metadata": {
  "kernelspec": {
   "display_name": "Python 3 (ipykernel)",
   "language": "python",
   "name": "python3"
  },
  "language_info": {
   "codemirror_mode": {
    "name": "ipython",
    "version": 3
   },
   "file_extension": ".py",
   "mimetype": "text/x-python",
   "name": "python",
   "nbconvert_exporter": "python",
   "pygments_lexer": "ipython3",
   "version": "3.8.5"
  }
 },
 "nbformat": 4,
 "nbformat_minor": 5
}
