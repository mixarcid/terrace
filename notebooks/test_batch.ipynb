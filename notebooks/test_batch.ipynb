{
 "cells": [
  {
   "cell_type": "code",
   "execution_count": 1,
   "id": "34e9d12e-c37d-4a9d-8c06-eeddf197b819",
   "metadata": {},
   "outputs": [],
   "source": [
    "import sys\n",
    "sys.path.append('../')\n",
    "\n",
    "%load_ext autoreload\n",
    "%autoreload 2"
   ]
  },
  {
   "cell_type": "code",
   "execution_count": 2,
   "id": "e1815d9d-c230-4bb3-b5c6-1285d7a2f31b",
   "metadata": {},
   "outputs": [],
   "source": [
    "from typing import Sequence\n",
    "\n",
    "import torch\n",
    "from torch import nn\n",
    "from batch import *\n",
    "from type_data import *\n",
    "from module import *\n",
    "from meta_utils import default_init"
   ]
  },
  {
   "cell_type": "code",
   "execution_count": 3,
   "id": "0d5e699a-3c80-43c0-af0b-483dbdf7a3c2",
   "metadata": {},
   "outputs": [
    {
     "name": "stdout",
     "output_type": "stream",
     "text": [
      "TypeData[Tensor[(Batch, 2)]]\n",
      "[<batch.Batch object at 0x7f664b2e1460>]\n"
     ]
    }
   ],
   "source": [
    "@default_init\n",
    "class Test(Batchable):\n",
    "    \n",
    "    test1: torch.Tensor\n",
    "    test2: torch.Tensor\n",
    "        \n",
    "batch = ShapeVar('Batch')\n",
    "inp1 = Input((batch, 2), dtype=torch.long)\n",
    "inp2 = Input((batch, 3))\n",
    "mod = Test.Module(test1=LeakyReLU(inp1), test2=inp2, batch=True)\n",
    "model = Model([inp1, inp2], [mod])\n",
    "\n",
    "\n",
    "print(model.out_type.test1)\n",
    "\n",
    "\n",
    "t1 = torch.Tensor([[-1,2]])\n",
    "t2 = torch.Tensor([[1,2,3]])\n",
    "print(model([t1, t2]))"
   ]
  },
  {
   "cell_type": "code",
   "execution_count": 4,
   "id": "e6fbb6fc-cf7d-409c-a75f-bad4a147a2f4",
   "metadata": {},
   "outputs": [
    {
     "data": {
      "text/plain": [
       "True"
      ]
     },
     "execution_count": 4,
     "metadata": {},
     "output_type": "execute_result"
    }
   ],
   "source": [
    "isinstance([Test(test1=t1, test2=t2)], Sequence)"
   ]
  },
  {
   "cell_type": "code",
   "execution_count": 5,
   "id": "72d18428-fe54-49c2-a447-7dacf46fccaf",
   "metadata": {},
   "outputs": [
    {
     "data": {
      "text/plain": [
       "False"
      ]
     },
     "execution_count": 5,
     "metadata": {},
     "output_type": "execute_result"
    }
   ],
   "source": [
    "b = Batch([Test(test1=t1, test2=t2)])\n",
    "isinstance(b, Batchable)"
   ]
  },
  {
   "cell_type": "code",
   "execution_count": 6,
   "id": "88147e57-4469-4e19-ba74-584f5ce6bb35",
   "metadata": {},
   "outputs": [
    {
     "data": {
      "text/plain": [
       "tensor([[[-1.,  2.]]])"
      ]
     },
     "execution_count": 6,
     "metadata": {},
     "output_type": "execute_result"
    }
   ],
   "source": [
    "@default_init\n",
    "class Test2(Batchable):\n",
    "    test: Test\n",
    "    \n",
    "t = Test2(Test(test1=t1, test2=t2))\n",
    "Batch([t]).test.test1"
   ]
  },
  {
   "cell_type": "code",
   "execution_count": 8,
   "id": "790e5823-317a-4d4d-902a-f5368486cf0b",
   "metadata": {},
   "outputs": [
    {
     "name": "stdout",
     "output_type": "stream",
     "text": [
      "<__main__.Test object at 0x7f6726ab0e50>\n"
     ]
    }
   ],
   "source": [
    "for item in b:\n",
    "    print(item)"
   ]
  }
 ],
 "metadata": {
  "kernelspec": {
   "display_name": "Python 3 (ipykernel)",
   "language": "python",
   "name": "python3"
  },
  "language_info": {
   "codemirror_mode": {
    "name": "ipython",
    "version": 3
   },
   "file_extension": ".py",
   "mimetype": "text/x-python",
   "name": "python",
   "nbconvert_exporter": "python",
   "pygments_lexer": "ipython3",
   "version": "3.8.5"
  }
 },
 "nbformat": 4,
 "nbformat_minor": 5
}
