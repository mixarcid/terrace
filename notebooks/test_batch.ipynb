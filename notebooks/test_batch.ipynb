{
 "cells": [
  {
   "cell_type": "code",
   "execution_count": 1,
   "id": "34e9d12e-c37d-4a9d-8c06-eeddf197b819",
   "metadata": {},
   "outputs": [],
   "source": [
    "import sys\n",
    "sys.path.append('../')\n",
    "\n",
    "%load_ext autoreload\n",
    "%autoreload 2"
   ]
  },
  {
   "cell_type": "code",
   "execution_count": 2,
   "id": "e1815d9d-c230-4bb3-b5c6-1285d7a2f31b",
   "metadata": {},
   "outputs": [],
   "source": [
    "import torch\n",
    "from torch import nn\n",
    "from batch import *\n",
    "from type_data import *\n",
    "from module import *\n",
    "from meta_utils import default_init"
   ]
  },
  {
   "cell_type": "code",
   "execution_count": 3,
   "id": "0d5e699a-3c80-43c0-af0b-483dbdf7a3c2",
   "metadata": {},
   "outputs": [
    {
     "name": "stdout",
     "output_type": "stream",
     "text": [
      "TypeData[Tensor[(Batch, 2)]]\n",
      "[<batch.Batch object at 0x7f9a65db4b50>]\n"
     ]
    }
   ],
   "source": [
    "@default_init\n",
    "class Test(Batchable):\n",
    "    \n",
    "    test1: torch.Tensor\n",
    "    test2: torch.Tensor\n",
    "        \n",
    "batch = ShapeVar('Batch')\n",
    "inp1 = Input((batch, 2), dtype=torch.long)\n",
    "inp2 = Input((batch, 3))\n",
    "mod = Test.Module(test1=LeakyReLU(inp1), test2=inp2, batch=True)\n",
    "model = Model([inp1, inp2], [mod])\n",
    "\n",
    "\n",
    "print(model.out_type.test1)\n",
    "\n",
    "\n",
    "t1 = torch.Tensor([[-1,2]])\n",
    "t2 = torch.Tensor([[1,2,3]])\n",
    "print(model([t1, t2]))"
   ]
  },
  {
   "cell_type": "code",
   "execution_count": 4,
   "id": "db472b57-8649-4a4e-82af-d82807751659",
   "metadata": {},
   "outputs": [
    {
     "data": {
      "text/plain": [
       "TypeData[Tensor[(Batch, 2), dtype=int64]]"
      ]
     },
     "execution_count": 4,
     "metadata": {},
     "output_type": "execute_result"
    }
   ],
   "source": [
    "inp1.out_type"
   ]
  },
  {
   "cell_type": "code",
   "execution_count": 5,
   "id": "b535981b-9933-40fd-84b9-40321b1f963a",
   "metadata": {},
   "outputs": [
    {
     "data": {
      "text/plain": [
       "'float32'"
      ]
     },
     "execution_count": 5,
     "metadata": {},
     "output_type": "execute_result"
    }
   ],
   "source": [
    "str(torch.float32).split('.')[-1]"
   ]
  }
 ],
 "metadata": {
  "kernelspec": {
   "display_name": "Python 3 (ipykernel)",
   "language": "python",
   "name": "python3"
  },
  "language_info": {
   "codemirror_mode": {
    "name": "ipython",
    "version": 3
   },
   "file_extension": ".py",
   "mimetype": "text/x-python",
   "name": "python",
   "nbconvert_exporter": "python",
   "pygments_lexer": "ipython3",
   "version": "3.8.5"
  }
 },
 "nbformat": 4,
 "nbformat_minor": 5
}
