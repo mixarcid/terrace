{
 "cells": [
  {
   "cell_type": "code",
   "execution_count": 1,
   "id": "815b3a76-a90a-47f8-8339-cc6c08151a44",
   "metadata": {},
   "outputs": [],
   "source": [
    "import sys\n",
    "sys.path.append('../')\n",
    "\n",
    "%load_ext autoreload\n",
    "%autoreload 2"
   ]
  },
  {
   "cell_type": "code",
   "execution_count": 2,
   "id": "e69a32fa-08fc-436d-a46b-2558e4cac7c2",
   "metadata": {},
   "outputs": [],
   "source": [
    "import torch\n",
    "from torch import nn\n",
    "from terrace import Input, Linear, Cat, Model"
   ]
  },
  {
   "cell_type": "code",
   "execution_count": 12,
   "id": "bbf562be-9d15-4f27-b031-753465685f51",
   "metadata": {},
   "outputs": [],
   "source": [
    "inp = Input((-1, 3))\n",
    "lin = Linear(inp, 5)\n",
    "lin2 = Linear(inp, 10)\n",
    "cat = Cat([lin, lin2])\n",
    "model = Model([inp], [cat])"
   ]
  },
  {
   "cell_type": "code",
   "execution_count": 13,
   "id": "ab1acfad-c2b7-46be-8b0b-7ccb15ab99ef",
   "metadata": {},
   "outputs": [
    {
     "data": {
      "text/plain": [
       "[tensor([-0.5654,  0.5286, -0.8534, -0.7996,  0.6941,  0.3893,  0.0556,  0.3488,\n",
       "          0.0879, -0.2546, -0.2569, -0.1553,  0.0872, -0.1506, -0.3846],\n",
       "        grad_fn=<CatBackward0>)]"
      ]
     },
     "execution_count": 13,
     "metadata": {},
     "output_type": "execute_result"
    }
   ],
   "source": [
    "t = torch.tensor([[0,0.6,0.7]])\n",
    "model(t)"
   ]
  },
  {
   "cell_type": "code",
   "execution_count": null,
   "id": "79154f4c-21b0-4d04-9f25-2df514b130d2",
   "metadata": {},
   "outputs": [
    {
     "data": {
      "text/plain": [
       "[Model(\n",
       "   (submodules): ModuleList(\n",
       "     (0): Cat()\n",
       "     (1): Linear(\n",
       "       (inner_mod): Linear(in_features=3, out_features=5, bias=True)\n",
       "     )\n",
       "     (2): Input()\n",
       "     (3): Linear(\n",
       "       (inner_mod): Linear(in_features=3, out_features=10, bias=True)\n",
       "     )\n",
       "   )\n",
       " ),\n",
       " ModuleList(\n",
       "   (0): Cat()\n",
       "   (1): Linear(\n",
       "     (inner_mod): Linear(in_features=3, out_features=5, bias=True)\n",
       "   )\n",
       "   (2): Input()\n",
       "   (3): Linear(\n",
       "     (inner_mod): Linear(in_features=3, out_features=10, bias=True)\n",
       "   )\n",
       " ),\n",
       " Cat(),\n",
       " Linear(\n",
       "   (inner_mod): Linear(in_features=3, out_features=5, bias=True)\n",
       " ),\n",
       " Linear(in_features=3, out_features=5, bias=True),\n",
       " Input(),\n",
       " Linear(\n",
       "   (inner_mod): Linear(in_features=3, out_features=10, bias=True)\n",
       " ),\n",
       " Linear(in_features=3, out_features=10, bias=True)]"
      ]
     },
     "execution_count": 14,
     "metadata": {},
     "output_type": "execute_result"
    }
   ],
   "source": [
    "list(model.modules())"
   ]
  }
 ],
 "metadata": {
  "kernelspec": {
   "display_name": "Python 3 (ipykernel)",
   "language": "python",
   "name": "python3"
  },
  "language_info": {
   "codemirror_mode": {
    "name": "ipython",
    "version": 3
   },
   "file_extension": ".py",
   "mimetype": "text/x-python",
   "name": "python",
   "nbconvert_exporter": "python",
   "pygments_lexer": "ipython3",
   "version": "3.8.5"
  }
 },
 "nbformat": 4,
 "nbformat_minor": 5
}
