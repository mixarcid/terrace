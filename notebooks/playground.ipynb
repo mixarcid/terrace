{
 "cells": [
  {
   "cell_type": "code",
   "execution_count": 37,
   "id": "815b3a76-a90a-47f8-8339-cc6c08151a44",
   "metadata": {},
   "outputs": [],
   "source": [
    "import sys\n",
    "sys.path.append('../')\n",
    "\n",
    "%load_ext autoreload\n",
    "%autoreload 2"
   ]
  },
  {
   "cell_type": "code",
   "execution_count": 40,
   "id": "e69a32fa-08fc-436d-a46b-2558e4cac7c2",
   "metadata": {},
   "outputs": [],
   "source": [
    "import torch\n",
    "from torch import nn\n",
    "from terrace import Input, Linear, Cat, Model"
   ]
  },
  {
   "cell_type": "code",
   "execution_count": 43,
   "id": "bbf562be-9d15-4f27-b031-753465685f51",
   "metadata": {},
   "outputs": [],
   "source": [
    "inp = Input((-1, 3))\n",
    "lin = Linear(inp, 5)\n",
    "lin2 = Linear(inp, 10)\n",
    "cat = Cat([lin, lin2])\n",
    "model = Model([inp], [cat])"
   ]
  },
  {
   "cell_type": "code",
   "execution_count": 44,
   "id": "ab1acfad-c2b7-46be-8b0b-7ccb15ab99ef",
   "metadata": {},
   "outputs": [
    {
     "data": {
      "text/plain": [
       "[tensor([-0.6427,  0.3676, -0.3341,  0.4378, -0.9507, -0.7504, -0.0474, -0.4921,\n",
       "          0.3669,  0.5894, -0.4543, -0.7763,  0.6383, -0.4270, -0.7257],\n",
       "        grad_fn=<CatBackward0>)]"
      ]
     },
     "execution_count": 44,
     "metadata": {},
     "output_type": "execute_result"
    }
   ],
   "source": [
    "t = torch.tensor([[0,0.6,0.7]])\n",
    "model(t)"
   ]
  }
 ],
 "metadata": {
  "kernelspec": {
   "display_name": "Python 3 (ipykernel)",
   "language": "python",
   "name": "python3"
  },
  "language_info": {
   "codemirror_mode": {
    "name": "ipython",
    "version": 3
   },
   "file_extension": ".py",
   "mimetype": "text/x-python",
   "name": "python",
   "nbconvert_exporter": "python",
   "pygments_lexer": "ipython3",
   "version": "3.8.5"
  }
 },
 "nbformat": 4,
 "nbformat_minor": 5
}
