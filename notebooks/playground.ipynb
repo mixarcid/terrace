{
 "cells": [
  {
   "cell_type": "code",
   "execution_count": 1,
   "id": "815b3a76-a90a-47f8-8339-cc6c08151a44",
   "metadata": {},
   "outputs": [],
   "source": [
    "import sys\n",
    "sys.path.append('../')\n",
    "\n",
    "%load_ext autoreload\n",
    "%autoreload 2"
   ]
  },
  {
   "cell_type": "code",
   "execution_count": 2,
   "id": "e69a32fa-08fc-436d-a46b-2558e4cac7c2",
   "metadata": {},
   "outputs": [],
   "source": [
    "import torch\n",
    "from torch import nn\n",
    "from terrace import Input, Linear, Cat, Model, Conv1d, Module, ReLU, Lambda\n",
    "from type_data import ShapeVar"
   ]
  },
  {
   "cell_type": "code",
   "execution_count": 3,
   "id": "156d0c55-6e68-4168-9257-8efe0a685d6c",
   "metadata": {},
   "outputs": [
    {
     "data": {
      "text/plain": [
       "TypeData[Tensor[(Batch, 3)]]"
      ]
     },
     "execution_count": 3,
     "metadata": {},
     "output_type": "execute_result"
    }
   ],
   "source": [
    "batch = ShapeVar(\"Batch\")\n",
    "inp = Input((batch, 3))\n",
    "inp.out_type"
   ]
  },
  {
   "cell_type": "code",
   "execution_count": 11,
   "id": "bbf562be-9d15-4f27-b031-753465685f51",
   "metadata": {},
   "outputs": [
    {
     "data": {
      "text/plain": [
       "'Tensor[(2*Batch, 15)]'"
      ]
     },
     "execution_count": 11,
     "metadata": {},
     "output_type": "execute_result"
    }
   ],
   "source": [
    "batch = ShapeVar(\"Batch\")\n",
    "inp = Input((batch, 3))\n",
    "lin = Linear(inp, 5)\n",
    "lin2 = Linear(inp, 10)\n",
    "r = ReLU(lin2)\n",
    "lam = Lambda(inp, lambda x: x + 3.0)\n",
    "cat = Cat((lin, lin2 + lin2 - r))\n",
    "model = Model([inp], [Cat((cat, cat), 0)])\n",
    "model.out_type.get_name()"
   ]
  },
  {
   "cell_type": "code",
   "execution_count": 15,
   "id": "ab1acfad-c2b7-46be-8b0b-7ccb15ab99ef",
   "metadata": {},
   "outputs": [
    {
     "data": {
      "text/plain": [
       "(ShapeVar[Batch], 15)"
      ]
     },
     "execution_count": 15,
     "metadata": {},
     "output_type": "execute_result"
    }
   ],
   "source": [
    "t = torch.tensor([[0,0.6,0.7]])\n",
    "cat.out_shape"
   ]
  },
  {
   "cell_type": "code",
   "execution_count": 7,
   "id": "dc25d91a-b0ff-471f-8e6b-58c834ea8966",
   "metadata": {},
   "outputs": [
    {
     "name": "stdout",
     "output_type": "stream",
     "text": [
      "TypeData[Tensor[(Batch, 200, Size - 2)]]\n",
      "torch.Size([20, 200, 28])\n"
     ]
    }
   ],
   "source": [
    "sz = ShapeVar(\"Size\")\n",
    "inp1 = Input((batch, 100, sz))\n",
    "conv = Conv1d(inp1, 200, 3, padding=0)\n",
    "print(conv.out_type)\n",
    "t = torch.zeros((20, 100, 30))\n",
    "print(conv(t).shape)"
   ]
  },
  {
   "cell_type": "code",
   "execution_count": 8,
   "id": "71038f93-5025-451c-b78a-7d54454defd4",
   "metadata": {},
   "outputs": [
    {
     "data": {
      "text/plain": [
       "tensor([0., 2.])"
      ]
     },
     "execution_count": 8,
     "metadata": {},
     "output_type": "execute_result"
    }
   ],
   "source": [
    "inp = Input((2,))\n",
    "r = ReLU(inp)\n",
    "t = torch.Tensor([-1, 2])\n",
    "r(t)"
   ]
  }
 ],
 "metadata": {
  "kernelspec": {
   "display_name": "Python 3 (ipykernel)",
   "language": "python",
   "name": "python3"
  },
  "language_info": {
   "codemirror_mode": {
    "name": "ipython",
    "version": 3
   },
   "file_extension": ".py",
   "mimetype": "text/x-python",
   "name": "python",
   "nbconvert_exporter": "python",
   "pygments_lexer": "ipython3",
   "version": "3.8.5"
  }
 },
 "nbformat": 4,
 "nbformat_minor": 5
}
