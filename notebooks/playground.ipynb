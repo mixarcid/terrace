{
 "cells": [
  {
   "cell_type": "code",
   "execution_count": 5,
   "id": "815b3a76-a90a-47f8-8339-cc6c08151a44",
   "metadata": {},
   "outputs": [
    {
     "name": "stdout",
     "output_type": "stream",
     "text": [
      "The autoreload extension is already loaded. To reload it, use:\n",
      "  %reload_ext autoreload\n"
     ]
    },
    {
     "data": {
      "text/plain": [
       "{'out': TypeData[Tensor[(Batch, 100)]]}"
      ]
     },
     "execution_count": 5,
     "metadata": {},
     "output_type": "execute_result"
    }
   ],
   "source": [
    "import sys\n",
    "sys.path.append('../')\n",
    "\n",
    "%load_ext autoreload\n",
    "%autoreload 2\n",
    "import torch\n",
    "from torch import nn\n",
    "from terrace.typed_module import *\n",
    "from terrace.type_data import *\n",
    "from terrace.comp_node import *\n",
    "from terrace.make_module import *\n",
    "\n",
    "batch = ShapeVar(\"Batch\")\n",
    "inp = Input(TensorTD((batch,), dtype=torch.long, max_values=[6]))\n",
    "embed = Embedding(10,10)(inp)\n",
    "lin = MakeLinear(5)(embed)\n",
    "lin2 = MakeLinear(100)(lin)\n",
    "r = ReLU()(lin2)\n",
    "model = Model(inp, {\"out\": r})\n",
    "model.out_type_data\n"
   ]
  },
  {
   "cell_type": "code",
   "execution_count": 113,
   "id": "0875bb42",
   "metadata": {},
   "outputs": [
    {
     "data": {
      "text/plain": [
       "TypeData[Tensor[(3, 2, 1), max_values=[6]]]"
      ]
     },
     "execution_count": 113,
     "metadata": {},
     "output_type": "execute_result"
    }
   ],
   "source": [
    "td = TensorTD((10, 9, 3), max_values=[4,5,6])\n",
    "td[0:3,-4:-2,-1:3]"
   ]
  },
  {
   "cell_type": "code",
   "execution_count": 10,
   "id": "ab1acfad-c2b7-46be-8b0b-7ccb15ab99ef",
   "metadata": {},
   "outputs": [
    {
     "data": {
      "text/plain": [
       "torch.Size([10, 100])"
      ]
     },
     "execution_count": 10,
     "metadata": {},
     "output_type": "execute_result"
    }
   ],
   "source": [
    "model(torch.ones((10,), dtype=torch.long))[\"out\"].shape"
   ]
  },
  {
   "cell_type": "code",
   "execution_count": 6,
   "id": "dc25d91a-b0ff-471f-8e6b-58c834ea8966",
   "metadata": {},
   "outputs": [
    {
     "name": "stdout",
     "output_type": "stream",
     "text": [
      "TypeData[Tensor[(Batch, 200, Size - 2)]]\n",
      "torch.Size([20, 200, 28])\n"
     ]
    }
   ],
   "source": [
    "sz = ShapeVar(\"Size\")\n",
    "inp1 = Input((batch, 100, sz))\n",
    "conv = Conv1d(inp1, 200, 3, padding=0)\n",
    "print(conv.out_type)\n",
    "t = torch.zeros((20, 100, 30))\n",
    "print(conv(t).shape)"
   ]
  },
  {
   "cell_type": "code",
   "execution_count": 7,
   "id": "71038f93-5025-451c-b78a-7d54454defd4",
   "metadata": {},
   "outputs": [
    {
     "data": {
      "text/plain": [
       "tensor([0., 2.])"
      ]
     },
     "execution_count": 7,
     "metadata": {},
     "output_type": "execute_result"
    }
   ],
   "source": [
    "inp = Input((2,))\n",
    "r = ReLU(inp)\n",
    "t = torch.Tensor([-1, 2])\n",
    "r(t)"
   ]
  }
 ],
 "metadata": {
  "kernelspec": {
   "display_name": "Python 3 (ipykernel)",
   "language": "python",
   "name": "python3"
  },
  "language_info": {
   "codemirror_mode": {
    "name": "ipython",
    "version": 3
   },
   "file_extension": ".py",
   "mimetype": "text/x-python",
   "name": "python",
   "nbconvert_exporter": "python",
   "pygments_lexer": "ipython3",
   "version": "3.8.5"
  }
 },
 "nbformat": 4,
 "nbformat_minor": 5
}
