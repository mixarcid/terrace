{
 "cells": [
  {
   "cell_type": "code",
   "execution_count": 1,
   "id": "5b8aff9a-15ee-42dd-945d-2b4630f8dfd6",
   "metadata": {},
   "outputs": [],
   "source": [
    "import sys\n",
    "sys.path.append('../')\n",
    "\n",
    "%load_ext autoreload\n",
    "%autoreload 2"
   ]
  },
  {
   "cell_type": "code",
   "execution_count": 42,
   "id": "0cde8318-194b-4582-b795-6a36e52da0e8",
   "metadata": {},
   "outputs": [],
   "source": [
    "import torch\n",
    "from type_data import *\n",
    "from comp_node import *\n",
    "from typed_module import *\n",
    "from meta_utils import *"
   ]
  },
  {
   "cell_type": "code",
   "execution_count": 39,
   "id": "4fd165a1-199a-45d8-adf0-123467414e20",
   "metadata": {},
   "outputs": [
    {
     "data": {
      "text/plain": [
       "TypeData[Tensor[(Batch, 200)]]"
      ]
     },
     "execution_count": 39,
     "metadata": {},
     "output_type": "execute_result"
    }
   ],
   "source": [
    "b = ShapeVar('Batch')\n",
    "td = TensorTD((b, 100))\n",
    "lin = Linear(100, 200)\n",
    "lin(td)"
   ]
  },
  {
   "cell_type": "code",
   "execution_count": 4,
   "id": "f04dafee-c6d1-4fa4-9b3a-89130d5ef8a4",
   "metadata": {},
   "outputs": [
    {
     "data": {
      "text/plain": [
       "Activation()"
      ]
     },
     "execution_count": 4,
     "metadata": {},
     "output_type": "execute_result"
    }
   ],
   "source": [
    "Activation(nn.ReLU)"
   ]
  },
  {
   "cell_type": "code",
   "execution_count": 36,
   "id": "82bb0287-1aa6-4eec-b21b-f9f8ee694302",
   "metadata": {},
   "outputs": [
    {
     "data": {
      "text/plain": [
       "tensor([[0.0000, 0.3162, 0.0000,  ..., 0.2602, 1.0263, 0.5097],\n",
       "        [0.1693, 0.0000, 0.7920,  ..., 0.0000, 0.0000, 0.0000],\n",
       "        [0.0000, 0.4541, 0.3236,  ..., 0.0000, 0.7203, 0.2780],\n",
       "        ...,\n",
       "        [0.5461, 0.0000, 0.0000,  ..., 0.2653, 0.0118, 0.0196],\n",
       "        [0.0000, 0.0090, 0.9574,  ..., 0.0000, 0.0000, 0.0000],\n",
       "        [0.0951, 0.0000, 0.9433,  ..., 0.0000, 0.0527, 0.0000]],\n",
       "       grad_fn=<ReluBackward0>)"
      ]
     },
     "execution_count": 36,
     "metadata": {},
     "output_type": "execute_result"
    }
   ],
   "source": [
    "t = torch.randn((100, 100))\n",
    "ReLU()(lin(t))"
   ]
  },
  {
   "cell_type": "code",
   "execution_count": 38,
   "id": "4392bc90-cc50-4154-8b90-46e217efa0ab",
   "metadata": {},
   "outputs": [
    {
     "data": {
      "text/plain": [
       "<comp_node.CompNode at 0x7fbcd65684f0>"
      ]
     },
     "execution_count": 38,
     "metadata": {},
     "output_type": "execute_result"
    }
   ],
   "source": [
    "node = Input(TensorTD((b, 100)))\n",
    "ReLU()(lin(node))"
   ]
  },
  {
   "cell_type": "code",
   "execution_count": 43,
   "id": "f44b7006-90ed-42e1-9c59-96962f7f52f6",
   "metadata": {
    "jp-MarkdownHeadingCollapsed": true,
    "tags": []
   },
   "outputs": [
    {
     "data": {
      "text/plain": [
       "tensor([[0.0549, 0.7810, 0.0000,  ..., 1.0929, 0.0000, 0.0000],\n",
       "        [0.0000, 0.4035, 0.0000,  ..., 0.0000, 0.0000, 0.0000],\n",
       "        [0.0355, 0.0142, 0.0000,  ..., 0.0000, 0.0000, 1.3839],\n",
       "        ...,\n",
       "        [0.0000, 0.7960, 0.9735,  ..., 0.0000, 0.0000, 0.0137],\n",
       "        [0.0000, 0.0748, 0.0000,  ..., 0.0000, 0.1304, 0.4124],\n",
       "        [0.0000, 0.0000, 0.0000,  ..., 0.0000, 0.0000, 0.5400]],\n",
       "       grad_fn=<ReluBackward0>)"
      ]
     },
     "execution_count": 43,
     "metadata": {},
     "output_type": "execute_result"
    }
   ],
   "source": [
    "inp = Input(TensorTD((b, 100)))\n",
    "out = ReLU()(lin(inp))\n",
    "model = Model(inp, out)\n",
    "model(torch.randn((100, 100)))"
   ]
  }
 ],
 "metadata": {
  "kernelspec": {
   "display_name": "Python 3 (ipykernel)",
   "language": "python",
   "name": "python3"
  },
  "language_info": {
   "codemirror_mode": {
    "name": "ipython",
    "version": 3
   },
   "file_extension": ".py",
   "mimetype": "text/x-python",
   "name": "python",
   "nbconvert_exporter": "python",
   "pygments_lexer": "ipython3",
   "version": "3.8.5"
  }
 },
 "nbformat": 4,
 "nbformat_minor": 5
}
